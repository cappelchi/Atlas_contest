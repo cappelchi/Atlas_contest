{
  "nbformat": 4,
  "nbformat_minor": 0,
  "metadata": {
    "kernelspec": {
      "display_name": "Python 3",
      "language": "python",
      "name": "python3"
    },
    "language_info": {
      "codemirror_mode": {
        "name": "ipython",
        "version": 3
      },
      "file_extension": ".py",
      "mimetype": "text/x-python",
      "name": "python",
      "nbconvert_exporter": "python",
      "pygments_lexer": "ipython3",
      "version": "3.5.2"
    },
    "colab": {
      "name": "Atlas_contest_1_git.ipynb",
      "provenance": [],
      "collapsed_sections": [],
      "include_colab_link": true
    }
  },
  "cells": [
    {
      "cell_type": "markdown",
      "metadata": {
        "id": "view-in-github",
        "colab_type": "text"
      },
      "source": [
        "<a href=\"https://colab.research.google.com/github/cappelchi/Atlas_contest/blob/master/Atlas_contest_1_git.ipynb\" target=\"_parent\"><img src=\"https://colab.research.google.com/assets/colab-badge.svg\" alt=\"Open In Colab\"/></a>"
      ]
    },
    {
      "cell_type": "markdown",
      "metadata": {
        "id": "AzbhriOsOTMP",
        "colab_type": "text"
      },
      "source": [
        "Первое задание конкурса\n",
        "https://habr.com/ru/company/atlasbiomed/blog/480954/\n",
        "\n",
        "Используя тестовый датасет из 12 образцов Data/Test/CEI.1kg.2019.test.vcf.gz, составьте их родословную, руководствуясь результатами определения пола и kinship анализа. Образцы, которые по результатам анализа не находятся в родственных связях с кем-либо, запишите рядом, не соединяя их линией с другими образцами. Родословная может быть составлена в стилистике, аналогичной Рисунку 1, однако это остается на ваше усмотрение. Мужчины обозначаются квадратом, женщины — кругом, брак — горизонтальной линией, ребенок — вертикальной линией, несколько детей — горизонтальным разветвлением вертикальной линии (в виде буквы П). Подробнее про эти обозначения можно почитать здесь.\n",
        "\n",
        "Как мы писали выше, kinship коэффициенты не могут однозначно охарактеризовать родство того или иного порядка: одинаковые kinship коэффициенты получаются при сравнении пар родитель — ребенок и брат — сестра (родство первого порядка). При невозможности установить характер родственной связи, укажите любую из возможных. Обратите внимание, что образцы в тестовом датасете имеют отличные от используемых в датасете для обучения идентификаторы."
      ]
    },
    {
      "cell_type": "code",
      "metadata": {
        "id": "aDbdQM0pOTMS",
        "colab_type": "code",
        "colab": {}
      },
      "source": [
        "#home\n",
        "#└── ubuntu\n",
        "#    ├── Data\n",
        "#    │   ├── Test\n",
        "#    │   │   ├── CEI.1kg.2019.test.vcf.gz\n",
        "#    │   │   └── CEI.1kg.2019.test.vcf.gz.tbi\n",
        "#    │   └── Tutorial\n",
        "#    │       ├── CEI.1kg.2019.demo.vcf.gz\n",
        "#    │       └── CEI.1kg.2019.demo.vcf.gz.tbi\n",
        "#    ├── Technical\n",
        "#    │   ├── external_interpretation_rsids.txt\n",
        "#    │   └── rsids_for_subsetting.txt\n",
        "#    └── Tools\n",
        "#        ├── convert_plink_delimiter.sh\n",
        "#        └── create_23andme.sh"
      ],
      "execution_count": 0,
      "outputs": []
    },
    {
      "cell_type": "code",
      "metadata": {
        "scrolled": false,
        "id": "Cw1bVNOhOTMi",
        "colab_type": "code",
        "colab": {}
      },
      "source": [
        "!pip install pandas\n",
        "!pip install PyVCF\n",
        "!pip install pysam\n",
        "!pip install networkx\n",
        "!pip install matplotlib"
      ],
      "execution_count": 0,
      "outputs": []
    },
    {
      "cell_type": "code",
      "metadata": {
        "id": "b0O6YzUkOTMr",
        "colab_type": "code",
        "colab": {}
      },
      "source": [
        "import pandas as pd\n",
        "import vcf\n",
        "import pysam"
      ],
      "execution_count": 0,
      "outputs": []
    },
    {
      "cell_type": "code",
      "metadata": {
        "id": "o7uMyI3DOTMy",
        "colab_type": "code",
        "colab": {}
      },
      "source": [
        "vcf_reader = vcf.Reader(filename='Data/Test/CEI.1kg.2019.test.vcf.gz')"
      ],
      "execution_count": 0,
      "outputs": []
    },
    {
      "cell_type": "code",
      "metadata": {
        "id": "Jj_qQ4EXOTNA",
        "colab_type": "code",
        "colab": {},
        "outputId": "40581efd-99bf-4b43-cc63-85af5c5ee325"
      },
      "source": [
        "vcf_reader.samples"
      ],
      "execution_count": 0,
      "outputs": [
        {
          "output_type": "execute_result",
          "data": {
            "text/plain": [
              "['AT0038',\n",
              " 'AT0006',\n",
              " 'AT0030',\n",
              " 'AT0093',\n",
              " 'AT0075',\n",
              " 'AT0066',\n",
              " 'AT0061',\n",
              " 'AT0090',\n",
              " 'AT0070',\n",
              " 'AT0023',\n",
              " 'AT0047',\n",
              " 'AT0041']"
            ]
          },
          "metadata": {
            "tags": []
          },
          "execution_count": 4
        }
      ]
    },
    {
      "cell_type": "code",
      "metadata": {
        "id": "WozGg-4yOTNL",
        "colab_type": "code",
        "colab": {}
      },
      "source": [
        "sample_num = {}\n",
        "for cnt, sample in enumerate(vcf_reader.samples):\n",
        "    sample_num[sample] = cnt"
      ],
      "execution_count": 0,
      "outputs": []
    },
    {
      "cell_type": "code",
      "metadata": {
        "id": "qC_IiYaOOTNT",
        "colab_type": "code",
        "colab": {}
      },
      "source": [
        "is_male = {}\n",
        "for sample in vcf_reader.samples:\n",
        "    collect_gt = []\n",
        "    for cnt, record in enumerate(vcf_reader.fetch('chrX', 2699521, 154931043)):\n",
        "        #rec_gt = record.samples[0]\n",
        "        #print (record.samples[0]['GT'])\n",
        "        collect_gt.append(len(record.samples[sample_num[sample]]['GT']))\n",
        "        if cnt > 10:\n",
        "            break\n",
        "    is_male[sample] = (max(collect_gt) == 1)\n",
        "#print (is_male)"
      ],
      "execution_count": 0,
      "outputs": []
    },
    {
      "cell_type": "code",
      "metadata": {
        "id": "-N9jii_nOTNZ",
        "colab_type": "code",
        "colab": {},
        "outputId": "3e3e50a2-00e0-416a-f4e8-e923d288a090"
      },
      "source": [
        "for key, value in is_male.items():\n",
        "    if value:\n",
        "        print (key, ' is male')\n",
        "    else:\n",
        "        print (key, ' is female') "
      ],
      "execution_count": 0,
      "outputs": [
        {
          "output_type": "stream",
          "text": [
            "AT0070  is female\n",
            "AT0066  is male\n",
            "AT0030  is female\n",
            "AT0006  is female\n",
            "AT0090  is female\n",
            "AT0075  is female\n",
            "AT0041  is male\n",
            "AT0047  is female\n",
            "AT0038  is male\n",
            "AT0023  is female\n",
            "AT0061  is male\n",
            "AT0093  is male\n"
          ],
          "name": "stdout"
        }
      ]
    },
    {
      "cell_type": "code",
      "metadata": {
        "id": "BBfqe5JtOTNg",
        "colab_type": "code",
        "colab": {},
        "outputId": "5bd594ef-253b-4d21-c3a6-93bb2e3d60be"
      },
      "source": [
        "!plink --vcf 'Data/Test/CEI.1kg.2019.test.vcf.gz' --memory 28000 --exclude 'Technical/rsids_for_subsetting.txt' --make-bed --out CEI_test1"
      ],
      "execution_count": 0,
      "outputs": [
        {
          "output_type": "stream",
          "text": [
            "PLINK v1.90b6.12 64-bit (28 Oct 2019)          www.cog-genomics.org/plink/1.9/\n",
            "(C) 2005-2019 Shaun Purcell, Christopher Chang   GNU General Public License v3\n",
            "Logging to CEI_test1.log.\n",
            "Options in effect:\n",
            "  --exclude Technical/rsids_for_subsetting.txt\n",
            "  --make-bed\n",
            "  --memory 28000\n",
            "  --out CEI_test1\n",
            "  --vcf Data/Test/CEI.1kg.2019.test.vcf.gz\n",
            "\n",
            "32175 MB RAM detected; reserving 28000 MB for main workspace.\n",
            "--vcf: CEI_test1-temporary.bed + CEI_test1-temporary.bim +\n",
            "CEI_test1-temporary.fam written.\n",
            "85157640 variants loaded from .bim file.\n",
            "12 people (0 males, 0 females, 12 ambiguous) loaded from .fam.\n",
            "Ambiguous sex IDs written to CEI_test1.nosex .\n",
            "--exclude: 83866869 variants remaining.\n",
            "Using 1 thread (no multithreaded calculations invoked).\n",
            "Before main variant filters, 12 founders and 0 nonfounders present.\n",
            "Calculating allele frequencies... 10111213141516171819202122232425262728293031323334353637383940414243444546474849505152535455565758596061626364656667686970717273747576777879808182838485868788899091929394959697989 done.\n",
            "Total genotyping rate is 0.994894.\n",
            "83866869 variants and 12 people pass filters and QC.\n",
            "Note: No phenotypes present.\n",
            "--make-bed to CEI_test1.bed + CEI_test1.bim + CEI_test1.fam ... 101112131415161718192021222324252627282930313233343536373839404142434445464748495051525354555657585960616263646566676869707172737475767778798081828384858687888990919293949596979899done.\n"
          ],
          "name": "stdout"
        }
      ]
    },
    {
      "cell_type": "code",
      "metadata": {
        "id": "gELXU3F3OTNo",
        "colab_type": "code",
        "colab": {},
        "outputId": "f975ed7e-6a56-4132-cfcd-fca62d2733a0"
      },
      "source": [
        "!king -b CEI_test1.bed --kinship --prefix CEI_test1"
      ],
      "execution_count": 0,
      "outputs": [
        {
          "output_type": "stream",
          "text": [
            "KING 2.2.4 - (c) 2010-2019 Wei-Min Chen\n",
            "\n",
            "The following parameters are in effect:\n",
            "                   Binary File :   CEI_test1.bed (-bname)\n",
            "\n",
            "Additional Options\n",
            "         Close Relative Inference : --related, --duplicate\n",
            "   Pairwise Relatedness Inference : --kinship [ON], --ibdseg, --ibs, --homog\n",
            "              Inference Parameter : --degree\n",
            "         Relationship Application : --unrelated, --cluster, --build\n",
            "                        QC Report : --bysample, --bySNP, --roh, --autoQC\n",
            "                     QC Parameter : --callrateN, --callrateM\n",
            "             Population Structure : --pca, --mds\n",
            "              Structure Parameter : --projection, --pcs\n",
            "              Disease Association : --tdt\n",
            "   Quantitative Trait Association : --mtscore\n",
            "                Association Model : --trait [], --covariate []\n",
            "            Association Parameter : --invnorm, --maxP\n",
            "               Genetic Risk Score : --risk, --model [], --prevalence, --noflip\n",
            "              Computing Parameter : --cpus\n",
            "                   Optional Input : --fam [], --bim [], --sexchr [23]\n",
            "                           Output : --prefix [CEI_test1], --rpath [], --rplot\n",
            "\n",
            "KING starts at Wed Feb 19 20:24:06 2020\n",
            "Loading genotype data in PLINK binary format...\n",
            "Read in PLINK fam file CEI_test1.fam...\n",
            "  PLINK pedigrees loaded: 12 samples\n",
            "Read in PLINK bim file CEI_test1.bim...\n",
            "  Genotype data consist of 80434195 autosome SNPs, 3432674 X-chromosome SNPs\n",
            "  PLINK maps loaded: 83866869 SNPs\n",
            "Read in PLINK bed file CEI_test1.bed...\n",
            "  PLINK binary genotypes loaded.\n",
            "  KING format genotype data successfully converted.\n",
            "Autosome genotypes stored in 1256785 words for each of 12 individuals.\n",
            "\n",
            "Options in effect:\n",
            "\t--kinship\n",
            "\t--prefix CEI_test1\n",
            "\n",
            "Each family consists of one individual.\n",
            "Relationship inference across families starts at Wed Feb 19 20:25:52 2020\n",
            "2 CPU cores are used.\n",
            "                                         ends at Wed Feb 19 20:25:53 2020\n",
            "Between-family kinship data saved in file CEI_test1.kin0\n",
            "Note --kinship --degree <n> can filter & speed up the kinship computing.\n",
            "\n",
            "X-chromosome analysis...\n",
            "X-chromosome genotypes stored in 53636 64-bit words for each of 12 individuals.\n",
            "Within-family kinship data saved in file CEI_test1X.kin\n",
            "Relationship inference across families starts at Wed Feb 19 20:25:53 2020\n",
            "                                         ends at Wed Feb 19 20:25:53 2020\n",
            "Between-family kinship data saved in file CEI_test1X.kin0\n",
            "KING ends at Wed Feb 19 20:25:53 2020\n"
          ],
          "name": "stdout"
        }
      ]
    },
    {
      "cell_type": "code",
      "metadata": {
        "id": "vbRCkJWtPLmw",
        "colab_type": "code",
        "colab": {
          "base_uri": "https://localhost:8080/",
          "height": 266
        },
        "outputId": "d1eebaa5-6b05-4e70-cfde-fb06ef6ffdcd"
      },
      "source": [
        "!wget --no-check-certificate --content-disposition https://github.com/cappelchi/Atlas_contest/blob/master/CEI_test1.kin0\n",
        "!curl -LJO https://raw.githubusercontent.com/cappelchi/Atlas_contest/master/CEI_test1.kin0"
      ],
      "execution_count": 1,
      "outputs": [
        {
          "output_type": "stream",
          "text": [
            "--2020-02-20 06:18:03--  https://github.com/cappelchi/Atlas_contest/blob/master/CEI_test1.kin0\n",
            "Resolving github.com (github.com)... 192.30.253.113\n",
            "Connecting to github.com (github.com)|192.30.253.113|:443... connected.\n",
            "HTTP request sent, awaiting response... 200 OK\n",
            "Length: unspecified [text/html]\n",
            "Saving to: ‘CEI_test1.kin0’\n",
            "\n",
            "\rCEI_test1.kin0          [<=>                 ]       0  --.-KB/s               \rCEI_test1.kin0          [ <=>                ]  79.58K  --.-KB/s    in 0.03s   \n",
            "\n",
            "2020-02-20 06:18:03 (2.94 MB/s) - ‘CEI_test1.kin0’ saved [81495]\n",
            "\n",
            "  % Total    % Received % Xferd  Average Speed   Time    Time     Time  Current\n",
            "                                 Dload  Upload   Total   Spent    Left  Speed\n",
            "100  3926  100  3926    0     0  21107      0 --:--:-- --:--:-- --:--:-- 21107\n"
          ],
          "name": "stdout"
        }
      ]
    },
    {
      "cell_type": "code",
      "metadata": {
        "id": "pFmWQGnsOTNw",
        "colab_type": "code",
        "colab": {}
      },
      "source": [
        "df_kin = pd.read_csv('CEI_test1.kin0', sep = '\\t')"
      ],
      "execution_count": 0,
      "outputs": []
    },
    {
      "cell_type": "code",
      "metadata": {
        "id": "GBLIBTgnOTN2",
        "colab_type": "code",
        "colab": {
          "base_uri": "https://localhost:8080/",
          "height": 204
        },
        "outputId": "7332d501-dad6-4c20-b5f3-33a4fba73f7a"
      },
      "source": [
        "df_kin.head()"
      ],
      "execution_count": 6,
      "outputs": [
        {
          "output_type": "execute_result",
          "data": {
            "text/html": [
              "<div>\n",
              "<style scoped>\n",
              "    .dataframe tbody tr th:only-of-type {\n",
              "        vertical-align: middle;\n",
              "    }\n",
              "\n",
              "    .dataframe tbody tr th {\n",
              "        vertical-align: top;\n",
              "    }\n",
              "\n",
              "    .dataframe thead th {\n",
              "        text-align: right;\n",
              "    }\n",
              "</style>\n",
              "<table border=\"1\" class=\"dataframe\">\n",
              "  <thead>\n",
              "    <tr style=\"text-align: right;\">\n",
              "      <th></th>\n",
              "      <th>FID1</th>\n",
              "      <th>ID1</th>\n",
              "      <th>FID2</th>\n",
              "      <th>ID2</th>\n",
              "      <th>N_SNP</th>\n",
              "      <th>HetHet</th>\n",
              "      <th>IBS0</th>\n",
              "      <th>Kinship</th>\n",
              "    </tr>\n",
              "  </thead>\n",
              "  <tbody>\n",
              "    <tr>\n",
              "      <th>0</th>\n",
              "      <td>AT0038</td>\n",
              "      <td>AT0038</td>\n",
              "      <td>AT0006</td>\n",
              "      <td>AT0006</td>\n",
              "      <td>77930368</td>\n",
              "      <td>0.0114</td>\n",
              "      <td>0.0057</td>\n",
              "      <td>-0.0017</td>\n",
              "    </tr>\n",
              "    <tr>\n",
              "      <th>1</th>\n",
              "      <td>AT0038</td>\n",
              "      <td>AT0038</td>\n",
              "      <td>AT0030</td>\n",
              "      <td>AT0030</td>\n",
              "      <td>77930183</td>\n",
              "      <td>0.0113</td>\n",
              "      <td>0.0056</td>\n",
              "      <td>0.0003</td>\n",
              "    </tr>\n",
              "    <tr>\n",
              "      <th>2</th>\n",
              "      <td>AT0038</td>\n",
              "      <td>AT0038</td>\n",
              "      <td>AT0093</td>\n",
              "      <td>AT0093</td>\n",
              "      <td>77931660</td>\n",
              "      <td>0.0076</td>\n",
              "      <td>0.0096</td>\n",
              "      <td>-0.3177</td>\n",
              "    </tr>\n",
              "    <tr>\n",
              "      <th>3</th>\n",
              "      <td>AT0038</td>\n",
              "      <td>AT0038</td>\n",
              "      <td>AT0075</td>\n",
              "      <td>AT0075</td>\n",
              "      <td>77931463</td>\n",
              "      <td>0.0084</td>\n",
              "      <td>0.0086</td>\n",
              "      <td>-0.2089</td>\n",
              "    </tr>\n",
              "    <tr>\n",
              "      <th>4</th>\n",
              "      <td>AT0038</td>\n",
              "      <td>AT0038</td>\n",
              "      <td>AT0066</td>\n",
              "      <td>AT0066</td>\n",
              "      <td>77931345</td>\n",
              "      <td>0.0082</td>\n",
              "      <td>0.0088</td>\n",
              "      <td>-0.2305</td>\n",
              "    </tr>\n",
              "  </tbody>\n",
              "</table>\n",
              "</div>"
            ],
            "text/plain": [
              "     FID1     ID1    FID2     ID2     N_SNP  HetHet    IBS0  Kinship\n",
              "0  AT0038  AT0038  AT0006  AT0006  77930368  0.0114  0.0057  -0.0017\n",
              "1  AT0038  AT0038  AT0030  AT0030  77930183  0.0113  0.0056   0.0003\n",
              "2  AT0038  AT0038  AT0093  AT0093  77931660  0.0076  0.0096  -0.3177\n",
              "3  AT0038  AT0038  AT0075  AT0075  77931463  0.0084  0.0086  -0.2089\n",
              "4  AT0038  AT0038  AT0066  AT0066  77931345  0.0082  0.0088  -0.2305"
            ]
          },
          "metadata": {
            "tags": []
          },
          "execution_count": 6
        }
      ]
    },
    {
      "cell_type": "code",
      "metadata": {
        "id": "1XcFX_DyOTN9",
        "colab_type": "code",
        "colab": {
          "base_uri": "https://localhost:8080/",
          "height": 235
        },
        "outputId": "452fc1cf-be0e-4350-bb11-f621ad8a959b"
      },
      "source": [
        "df_kin[df_kin.Kinship > 0.0442]"
      ],
      "execution_count": 7,
      "outputs": [
        {
          "output_type": "execute_result",
          "data": {
            "text/html": [
              "<div>\n",
              "<style scoped>\n",
              "    .dataframe tbody tr th:only-of-type {\n",
              "        vertical-align: middle;\n",
              "    }\n",
              "\n",
              "    .dataframe tbody tr th {\n",
              "        vertical-align: top;\n",
              "    }\n",
              "\n",
              "    .dataframe thead th {\n",
              "        text-align: right;\n",
              "    }\n",
              "</style>\n",
              "<table border=\"1\" class=\"dataframe\">\n",
              "  <thead>\n",
              "    <tr style=\"text-align: right;\">\n",
              "      <th></th>\n",
              "      <th>FID1</th>\n",
              "      <th>ID1</th>\n",
              "      <th>FID2</th>\n",
              "      <th>ID2</th>\n",
              "      <th>N_SNP</th>\n",
              "      <th>HetHet</th>\n",
              "      <th>IBS0</th>\n",
              "      <th>Kinship</th>\n",
              "    </tr>\n",
              "  </thead>\n",
              "  <tbody>\n",
              "    <tr>\n",
              "      <th>7</th>\n",
              "      <td>AT0038</td>\n",
              "      <td>AT0038</td>\n",
              "      <td>AT0070</td>\n",
              "      <td>AT0070</td>\n",
              "      <td>77919548</td>\n",
              "      <td>0.0181</td>\n",
              "      <td>0.0001</td>\n",
              "      <td>0.2466</td>\n",
              "    </tr>\n",
              "    <tr>\n",
              "      <th>17</th>\n",
              "      <td>AT0006</td>\n",
              "      <td>AT0006</td>\n",
              "      <td>AT0070</td>\n",
              "      <td>AT0070</td>\n",
              "      <td>77919526</td>\n",
              "      <td>0.0181</td>\n",
              "      <td>0.0001</td>\n",
              "      <td>0.2469</td>\n",
              "    </tr>\n",
              "    <tr>\n",
              "      <th>35</th>\n",
              "      <td>AT0093</td>\n",
              "      <td>AT0093</td>\n",
              "      <td>AT0023</td>\n",
              "      <td>AT0023</td>\n",
              "      <td>77921916</td>\n",
              "      <td>0.0130</td>\n",
              "      <td>0.0001</td>\n",
              "      <td>0.2192</td>\n",
              "    </tr>\n",
              "    <tr>\n",
              "      <th>42</th>\n",
              "      <td>AT0075</td>\n",
              "      <td>AT0075</td>\n",
              "      <td>AT0023</td>\n",
              "      <td>AT0023</td>\n",
              "      <td>77921802</td>\n",
              "      <td>0.0148</td>\n",
              "      <td>0.0001</td>\n",
              "      <td>0.2494</td>\n",
              "    </tr>\n",
              "    <tr>\n",
              "      <th>55</th>\n",
              "      <td>AT0061</td>\n",
              "      <td>AT0061</td>\n",
              "      <td>AT0041</td>\n",
              "      <td>AT0041</td>\n",
              "      <td>77922036</td>\n",
              "      <td>0.0145</td>\n",
              "      <td>0.0001</td>\n",
              "      <td>0.2529</td>\n",
              "    </tr>\n",
              "    <tr>\n",
              "      <th>65</th>\n",
              "      <td>AT0047</td>\n",
              "      <td>AT0047</td>\n",
              "      <td>AT0041</td>\n",
              "      <td>AT0041</td>\n",
              "      <td>78075838</td>\n",
              "      <td>0.0137</td>\n",
              "      <td>0.0001</td>\n",
              "      <td>0.2368</td>\n",
              "    </tr>\n",
              "  </tbody>\n",
              "</table>\n",
              "</div>"
            ],
            "text/plain": [
              "      FID1     ID1    FID2     ID2     N_SNP  HetHet    IBS0  Kinship\n",
              "7   AT0038  AT0038  AT0070  AT0070  77919548  0.0181  0.0001   0.2466\n",
              "17  AT0006  AT0006  AT0070  AT0070  77919526  0.0181  0.0001   0.2469\n",
              "35  AT0093  AT0093  AT0023  AT0023  77921916  0.0130  0.0001   0.2192\n",
              "42  AT0075  AT0075  AT0023  AT0023  77921802  0.0148  0.0001   0.2494\n",
              "55  AT0061  AT0061  AT0041  AT0041  77922036  0.0145  0.0001   0.2529\n",
              "65  AT0047  AT0047  AT0041  AT0041  78075838  0.0137  0.0001   0.2368"
            ]
          },
          "metadata": {
            "tags": []
          },
          "execution_count": 7
        }
      ]
    },
    {
      "cell_type": "code",
      "metadata": {
        "id": "dsenPBpPOTOD",
        "colab_type": "code",
        "colab": {}
      },
      "source": [
        "df_kin['graph'] = 0\n",
        "df_kin['graph'] = [0 if x < 0.0442 else 4 if x < 0.0884 else 3\n",
        "                   if x < 0.177 else 2 if x < 0.354 else 1\n",
        "                   for x in df_kin.Kinship]"
      ],
      "execution_count": 0,
      "outputs": []
    },
    {
      "cell_type": "code",
      "metadata": {
        "id": "-AWAPMFkOTOO",
        "colab_type": "code",
        "colab": {}
      },
      "source": [
        "import networkx as nx\n",
        "import matplotlib.pyplot as plt"
      ],
      "execution_count": 0,
      "outputs": []
    },
    {
      "cell_type": "code",
      "metadata": {
        "id": "lPOktMVgOTOW",
        "colab_type": "code",
        "colab": {}
      },
      "source": [
        "pedegree = nx.Graph()\n",
        "for edge1, edge2, weight in zip(df_kin.ID1, df_kin.ID2, df_kin.graph):\n",
        "    if weight:\n",
        "        pedegree.add_edge(edge1, edge2, weight = weight)"
      ],
      "execution_count": 0,
      "outputs": []
    },
    {
      "cell_type": "code",
      "metadata": {
        "id": "AjSWr1zKOTOc",
        "colab_type": "code",
        "colab": {
          "base_uri": "https://localhost:8080/",
          "height": 1000
        },
        "outputId": "05503c0d-29d1-41dc-aa5c-6fa1754d32ba"
      },
      "source": [
        "%matplotlib inline\n",
        "plt.figure(figsize=(15,15))\n",
        "nx.draw(pedegree, cmap = plt.get_cmap('rainbow'), with_labels=True,\n",
        "        node_color = 'white', font_size = 20)"
      ],
      "execution_count": 11,
      "outputs": [
        {
          "output_type": "display_data",
          "data": {
            "image/png": "[encoded data removed]",
            "text/plain": [
              "<Figure size 1080x1080 with 1 Axes>"
            ]
          },
          "metadata": {
            "tags": []
          }
        }
      ]
    },
    {
      "cell_type": "code",
      "metadata": {
        "id": "opvzP7moOTOh",
        "colab_type": "code",
        "colab": {}
      },
      "source": [
        ""
      ],
      "execution_count": 0,
      "outputs": []
    }
  ]
}