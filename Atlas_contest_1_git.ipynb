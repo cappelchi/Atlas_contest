{
  "nbformat": 4,
  "nbformat_minor": 0,
  "metadata": {
    "kernelspec": {
      "display_name": "Python 3",
      "language": "python",
      "name": "python3"
    },
    "language_info": {
      "codemirror_mode": {
        "name": "ipython",
        "version": 3
      },
      "file_extension": ".py",
      "mimetype": "text/x-python",
      "name": "python",
      "nbconvert_exporter": "python",
      "pygments_lexer": "ipython3",
      "version": "3.5.2"
    },
    "colab": {
      "name": "Atlas_contest_1_git.ipynb",
      "provenance": [],
      "collapsed_sections": [],
      "include_colab_link": true
    }
  },
  "cells": [
    {
      "cell_type": "markdown",
      "metadata": {
        "id": "view-in-github",
        "colab_type": "text"
      },
      "source": [
        "<a href=\"https://colab.research.google.com/github/cappelchi/Atlas_contest/blob/master/Atlas_contest_1_git.ipynb\" target=\"_parent\"><img src=\"https://colab.research.google.com/assets/colab-badge.svg\" alt=\"Open In Colab\"/></a>"
      ]
    },
    {
      "cell_type": "markdown",
      "metadata": {
        "id": "r2wnmugGyoSy",
        "colab_type": "text"
      },
      "source": [
        "Первое задание конкурса\n",
        "\n",
        "https://habr.com/ru/company/atlasbiomed/blog/480954/\n",
        "\n",
        "Используя тестовый датасет из 12 образцов Data/Test/CEI.1kg.2019.test.vcf.gz, составьте их родословную, руководствуясь результатами определения пола и kinship анализа. Образцы, которые по результатам анализа не находятся в родственных связях с кем-либо, запишите рядом, не соединяя их линией с другими образцами. Родословная может быть составлена в стилистике, аналогичной Рисунку 1, однако это остается на ваше усмотрение. Мужчины обозначаются квадратом, женщины — кругом, брак — горизонтальной линией, ребенок — вертикальной линией, несколько детей — горизонтальным разветвлением вертикальной линии (в виде буквы П). Подробнее про эти обозначения можно почитать здесь.\n",
        "\n",
        "Как мы писали выше, kinship коэффициенты не могут однозначно охарактеризовать родство того или иного порядка: одинаковые kinship коэффициенты получаются при сравнении пар родитель — ребенок и брат — сестра (родство первого порядка). При невозможности установить характер родственной связи, укажите любую из возможных. Обратите внимание, что образцы в тестовом датасете имеют отличные от используемых в датасете для обучения идентификаторы."
      ]
    },
    {
      "cell_type": "code",
      "metadata": {
        "id": "fVgR1lkGyoS4",
        "colab_type": "code",
        "colab": {}
      },
      "source": [
        "#home\n",
        "#└── ubuntu\n",
        "#    ├── Data\n",
        "#    │   ├── Test\n",
        "#    │   │   ├── CEI.1kg.2019.test.vcf.gz\n",
        "#    │   │   └── CEI.1kg.2019.test.vcf.gz.tbi\n",
        "#    │   └── Tutorial\n",
        "#    │       ├── CEI.1kg.2019.demo.vcf.gz\n",
        "#    │       └── CEI.1kg.2019.demo.vcf.gz.tbi\n",
        "#    ├── Technical\n",
        "#    │   ├── external_interpretation_rsids.txt\n",
        "#    │   └── rsids_for_subsetting.txt\n",
        "#    └── Tools\n",
        "#        ├── convert_plink_delimiter.sh\n",
        "#        └── create_23andme.sh"
      ],
      "execution_count": 0,
      "outputs": []
    },
    {
      "cell_type": "code",
      "metadata": {
        "scrolled": true,
        "id": "GmxxLIbmyoTI",
        "colab_type": "code",
        "colab": {}
      },
      "source": [
        "!pip install pandas\n",
        "!pip install PyVCF\n",
        "!pip install pysam\n",
        "!pip install networkx\n",
        "!pip install matplotlib"
      ],
      "execution_count": 0,
      "outputs": []
    },
    {
      "cell_type": "code",
      "metadata": {
        "id": "l-W32_VzyoTZ",
        "colab_type": "code",
        "colab": {}
      },
      "source": [
        "import pandas as pd\n",
        "import vcf\n",
        "import pysam"
      ],
      "execution_count": 0,
      "outputs": []
    },
    {
      "cell_type": "code",
      "metadata": {
        "id": "D051-hufyoTk",
        "colab_type": "code",
        "colab": {}
      },
      "source": [
        "vcf_reader = vcf.Reader(filename='Data/Test/CEI.1kg.2019.test.vcf.gz')"
      ],
      "execution_count": 0,
      "outputs": []
    },
    {
      "cell_type": "code",
      "metadata": {
        "id": "k1nmo-3myoTz",
        "colab_type": "code",
        "colab": {},
        "outputId": "6ba4c0bf-756c-4e81-c39e-7453f78b284d"
      },
      "source": [
        "vcf_reader.samples"
      ],
      "execution_count": 0,
      "outputs": [
        {
          "output_type": "execute_result",
          "data": {
            "text/plain": [
              "['AT0038',\n",
              " 'AT0006',\n",
              " 'AT0030',\n",
              " 'AT0093',\n",
              " 'AT0075',\n",
              " 'AT0066',\n",
              " 'AT0061',\n",
              " 'AT0090',\n",
              " 'AT0070',\n",
              " 'AT0023',\n",
              " 'AT0047',\n",
              " 'AT0041']"
            ]
          },
          "metadata": {
            "tags": []
          },
          "execution_count": 22
        }
      ]
    },
    {
      "cell_type": "code",
      "metadata": {
        "id": "S93Sx95qyoUC",
        "colab_type": "code",
        "colab": {}
      },
      "source": [
        "sample_num = {}\n",
        "for cnt, sample in enumerate(vcf_reader.samples):\n",
        "    sample_num[sample] = cnt"
      ],
      "execution_count": 0,
      "outputs": []
    },
    {
      "cell_type": "code",
      "metadata": {
        "id": "XafULFMqyoUV",
        "colab_type": "code",
        "colab": {},
        "outputId": "aa8fb0b3-c15d-47d9-df77-418a514a6513"
      },
      "source": [
        "is_male = {}\n",
        "for sample in record.samples:\n",
        "    #print (sample.sample)\n",
        "    collect_gt = []\n",
        "    for cnt, record in enumerate(vcf_reader.fetch('chrX', 2699521, 154931043)):\n",
        "        #rec_gt = record.samples[0]\n",
        "        #print (record.samples[0]['GT'])\n",
        "        collect_gt.append(len(record.samples[sample_num[sample.sample]]['GT']))\n",
        "        if cnt > 10:\n",
        "            break\n",
        "    is_male[sample.sample] = (max(collect_gt) == 1)\n",
        "print (is_male)"
      ],
      "execution_count": 0,
      "outputs": [
        {
          "output_type": "stream",
          "text": [
            "{'AT0093': True, 'AT0030': False, 'AT0041': True, 'AT0023': False, 'AT0070': False, 'AT0061': True, 'AT0038': True, 'AT0066': True, 'AT0090': False, 'AT0047': False, 'AT0075': False, 'AT0006': False}\n"
          ],
          "name": "stdout"
        }
      ]
    },
    {
      "cell_type": "code",
      "metadata": {
        "id": "0QDE74t4yoUk",
        "colab_type": "code",
        "colab": {},
        "outputId": "c5436049-35b5-4924-a7d9-64b722b00df2"
      },
      "source": [
        "!plink --vcf 'Data/Test/CEI.1kg.2019.test.vcf.gz' --memory 28000 --make-bed --out CEI_test1"
      ],
      "execution_count": 0,
      "outputs": [
        {
          "output_type": "stream",
          "text": [
            "PLINK v1.90b6.12 64-bit (28 Oct 2019)          www.cog-genomics.org/plink/1.9/\n",
            "(C) 2005-2019 Shaun Purcell, Christopher Chang   GNU General Public License v3\n",
            "Logging to CEI_test1.log.\n",
            "Options in effect:\n",
            "  --make-bed\n",
            "  --memory 28000\n",
            "  --out CEI_test1\n",
            "  --vcf Data/Test/CEI.1kg.2019.test.vcf.gz\n",
            "\n",
            "32175 MB RAM detected; reserving 28000 MB for main workspace.\n",
            "--vcf: CEI_test1-temporary.bed + CEI_test1-temporary.bim +\n",
            "CEI_test1-temporary.fam written.\n",
            "85157640 variants loaded from .bim file.\n",
            "12 people (0 males, 0 females, 12 ambiguous) loaded from .fam.\n",
            "Ambiguous sex IDs written to CEI_test1.nosex .\n",
            "Using 1 thread (no multithreaded calculations invoked).\n",
            "Before main variant filters, 12 founders and 0 nonfounders present.\n",
            "Calculating allele frequencies... 10111213141516171819202122232425262728293031323334353637383940414243444546474849505152535455565758596061626364656667686970717273747576777879808182838485868788899091929394959697989 done.\n",
            "Total genotyping rate is 0.99495.\n",
            "85157640 variants and 12 people pass filters and QC.\n",
            "Note: No phenotypes present.\n",
            "--make-bed to CEI_test1.bed + CEI_test1.bim + CEI_test1.fam ... 101112131415161718192021222324252627282930313233343536373839404142434445464748495051525354555657585960616263646566676869707172737475767778798081828384858687888990919293949596979899done.\n"
          ],
          "name": "stdout"
        }
      ]
    },
    {
      "cell_type": "code",
      "metadata": {
        "id": "6dCVr6cMyoUy",
        "colab_type": "code",
        "colab": {},
        "outputId": "a0a314a8-c345-47eb-c2af-51311b01624a"
      },
      "source": [
        "!king -b CEI_test1.bed --kinship --prefix CEI_test1"
      ],
      "execution_count": 0,
      "outputs": [
        {
          "output_type": "stream",
          "text": [
            "KING 2.2.4 - (c) 2010-2019 Wei-Min Chen\n",
            "\n",
            "The following parameters are in effect:\n",
            "                   Binary File :   CEI_test1.bed (-bname)\n",
            "\n",
            "Additional Options\n",
            "         Close Relative Inference : --related, --duplicate\n",
            "   Pairwise Relatedness Inference : --kinship [ON], --ibdseg, --ibs, --homog\n",
            "              Inference Parameter : --degree\n",
            "         Relationship Application : --unrelated, --cluster, --build\n",
            "                        QC Report : --bysample, --bySNP, --roh, --autoQC\n",
            "                     QC Parameter : --callrateN, --callrateM\n",
            "             Population Structure : --pca, --mds\n",
            "              Structure Parameter : --projection, --pcs\n",
            "              Disease Association : --tdt\n",
            "   Quantitative Trait Association : --mtscore\n",
            "                Association Model : --trait [], --covariate []\n",
            "            Association Parameter : --invnorm, --maxP\n",
            "               Genetic Risk Score : --risk, --model [], --prevalence, --noflip\n",
            "              Computing Parameter : --cpus\n",
            "                   Optional Input : --fam [], --bim [], --sexchr [23]\n",
            "                           Output : --prefix [CEI_test1], --rpath [], --rplot\n",
            "\n",
            "KING starts at Thu Feb 13 21:36:21 2020\n",
            "Loading genotype data in PLINK binary format...\n",
            "Read in PLINK fam file CEI_test1.fam...\n",
            "  PLINK pedigrees loaded: 12 samples\n",
            "Read in PLINK bim file CEI_test1.bim...\n",
            "  Genotype data consist of 78091709 autosome SNPs, 3204579 X-chromosome SNPs\n",
            "  PLINK maps loaded: 81296288 SNPs\n",
            "Read in PLINK bed file CEI_test1.bed...\n",
            "  PLINK binary genotypes loaded.\n",
            "  KING format genotype data successfully converted.\n",
            "Autosome genotypes stored in 1220183 words for each of 12 individuals.\n",
            "\n",
            "Options in effect:\n",
            "\t--kinship\n",
            "\t--prefix CEI_test1\n",
            "\n",
            "Each family consists of one individual.\n",
            "Relationship inference across families starts at Thu Feb 13 21:37:57 2020\n",
            "2 CPU cores are used.\n",
            "                                         ends at Thu Feb 13 21:37:58 2020\n",
            "Between-family kinship data saved in file CEI_test1.kin0\n",
            "Note --kinship --degree <n> can filter & speed up the kinship computing.\n",
            "\n",
            "X-chromosome analysis...\n",
            "X-chromosome genotypes stored in 50072 64-bit words for each of 12 individuals.\n",
            "Within-family kinship data saved in file CEI_test1X.kin\n",
            "Relationship inference across families starts at Thu Feb 13 21:37:58 2020\n",
            "                                         ends at Thu Feb 13 21:37:58 2020\n",
            "Between-family kinship data saved in file CEI_test1X.kin0\n",
            "KING ends at Thu Feb 13 21:37:58 2020\n"
          ],
          "name": "stdout"
        }
      ]
    },
    {
      "cell_type": "code",
      "metadata": {
        "id": "GQMkfp6eyoVE",
        "colab_type": "code",
        "colab": {}
      },
      "source": [
        "df_kin = pd.read_csv('CEI_test1.kin0', sep = '\\t')"
      ],
      "execution_count": 0,
      "outputs": []
    },
    {
      "cell_type": "code",
      "metadata": {
        "id": "qszFC9PRyoVU",
        "colab_type": "code",
        "colab": {},
        "outputId": "28fdf790-6cad-4c6c-92a8-9eb74319adf5"
      },
      "source": [
        "df_kin.head()"
      ],
      "execution_count": 0,
      "outputs": [
        {
          "output_type": "execute_result",
          "data": {
            "text/html": [
              "<div>\n",
              "<style scoped>\n",
              "    .dataframe tbody tr th:only-of-type {\n",
              "        vertical-align: middle;\n",
              "    }\n",
              "\n",
              "    .dataframe tbody tr th {\n",
              "        vertical-align: top;\n",
              "    }\n",
              "\n",
              "    .dataframe thead th {\n",
              "        text-align: right;\n",
              "    }\n",
              "</style>\n",
              "<table border=\"1\" class=\"dataframe\">\n",
              "  <thead>\n",
              "    <tr style=\"text-align: right;\">\n",
              "      <th></th>\n",
              "      <th>FID1</th>\n",
              "      <th>ID1</th>\n",
              "      <th>FID2</th>\n",
              "      <th>ID2</th>\n",
              "      <th>N_SNP</th>\n",
              "      <th>HetHet</th>\n",
              "      <th>IBS0</th>\n",
              "      <th>Kinship</th>\n",
              "    </tr>\n",
              "  </thead>\n",
              "  <tbody>\n",
              "    <tr>\n",
              "      <th>0</th>\n",
              "      <td>AT0038</td>\n",
              "      <td>AT0038</td>\n",
              "      <td>AT0006</td>\n",
              "      <td>AT0006</td>\n",
              "      <td>77930368</td>\n",
              "      <td>0.0114</td>\n",
              "      <td>0.0057</td>\n",
              "      <td>-0.0017</td>\n",
              "    </tr>\n",
              "    <tr>\n",
              "      <th>1</th>\n",
              "      <td>AT0038</td>\n",
              "      <td>AT0038</td>\n",
              "      <td>AT0030</td>\n",
              "      <td>AT0030</td>\n",
              "      <td>77930183</td>\n",
              "      <td>0.0113</td>\n",
              "      <td>0.0056</td>\n",
              "      <td>0.0003</td>\n",
              "    </tr>\n",
              "    <tr>\n",
              "      <th>2</th>\n",
              "      <td>AT0038</td>\n",
              "      <td>AT0038</td>\n",
              "      <td>AT0093</td>\n",
              "      <td>AT0093</td>\n",
              "      <td>77931660</td>\n",
              "      <td>0.0076</td>\n",
              "      <td>0.0096</td>\n",
              "      <td>-0.3177</td>\n",
              "    </tr>\n",
              "    <tr>\n",
              "      <th>3</th>\n",
              "      <td>AT0038</td>\n",
              "      <td>AT0038</td>\n",
              "      <td>AT0075</td>\n",
              "      <td>AT0075</td>\n",
              "      <td>77931463</td>\n",
              "      <td>0.0084</td>\n",
              "      <td>0.0086</td>\n",
              "      <td>-0.2089</td>\n",
              "    </tr>\n",
              "    <tr>\n",
              "      <th>4</th>\n",
              "      <td>AT0038</td>\n",
              "      <td>AT0038</td>\n",
              "      <td>AT0066</td>\n",
              "      <td>AT0066</td>\n",
              "      <td>77931345</td>\n",
              "      <td>0.0082</td>\n",
              "      <td>0.0088</td>\n",
              "      <td>-0.2305</td>\n",
              "    </tr>\n",
              "  </tbody>\n",
              "</table>\n",
              "</div>"
            ],
            "text/plain": [
              "     FID1     ID1    FID2     ID2     N_SNP  HetHet    IBS0  Kinship\n",
              "0  AT0038  AT0038  AT0006  AT0006  77930368  0.0114  0.0057  -0.0017\n",
              "1  AT0038  AT0038  AT0030  AT0030  77930183  0.0113  0.0056   0.0003\n",
              "2  AT0038  AT0038  AT0093  AT0093  77931660  0.0076  0.0096  -0.3177\n",
              "3  AT0038  AT0038  AT0075  AT0075  77931463  0.0084  0.0086  -0.2089\n",
              "4  AT0038  AT0038  AT0066  AT0066  77931345  0.0082  0.0088  -0.2305"
            ]
          },
          "metadata": {
            "tags": []
          },
          "execution_count": 3
        }
      ]
    },
    {
      "cell_type": "code",
      "metadata": {
        "id": "0fQZGL8uyoVd",
        "colab_type": "code",
        "colab": {},
        "outputId": "d797436d-651d-4727-91f5-c44c922ba90e"
      },
      "source": [
        "df_kin[df_kin.Kinship > 0.0442]"
      ],
      "execution_count": 0,
      "outputs": [
        {
          "output_type": "execute_result",
          "data": {
            "text/html": [
              "<div>\n",
              "<style scoped>\n",
              "    .dataframe tbody tr th:only-of-type {\n",
              "        vertical-align: middle;\n",
              "    }\n",
              "\n",
              "    .dataframe tbody tr th {\n",
              "        vertical-align: top;\n",
              "    }\n",
              "\n",
              "    .dataframe thead th {\n",
              "        text-align: right;\n",
              "    }\n",
              "</style>\n",
              "<table border=\"1\" class=\"dataframe\">\n",
              "  <thead>\n",
              "    <tr style=\"text-align: right;\">\n",
              "      <th></th>\n",
              "      <th>FID1</th>\n",
              "      <th>ID1</th>\n",
              "      <th>FID2</th>\n",
              "      <th>ID2</th>\n",
              "      <th>N_SNP</th>\n",
              "      <th>HetHet</th>\n",
              "      <th>IBS0</th>\n",
              "      <th>Kinship</th>\n",
              "      <th>graph</th>\n",
              "    </tr>\n",
              "  </thead>\n",
              "  <tbody>\n",
              "    <tr>\n",
              "      <th>7</th>\n",
              "      <td>AT0038</td>\n",
              "      <td>AT0038</td>\n",
              "      <td>AT0070</td>\n",
              "      <td>AT0070</td>\n",
              "      <td>77919548</td>\n",
              "      <td>0.0181</td>\n",
              "      <td>0.0001</td>\n",
              "      <td>0.2466</td>\n",
              "      <td>2</td>\n",
              "    </tr>\n",
              "    <tr>\n",
              "      <th>17</th>\n",
              "      <td>AT0006</td>\n",
              "      <td>AT0006</td>\n",
              "      <td>AT0070</td>\n",
              "      <td>AT0070</td>\n",
              "      <td>77919526</td>\n",
              "      <td>0.0181</td>\n",
              "      <td>0.0001</td>\n",
              "      <td>0.2469</td>\n",
              "      <td>2</td>\n",
              "    </tr>\n",
              "    <tr>\n",
              "      <th>35</th>\n",
              "      <td>AT0093</td>\n",
              "      <td>AT0093</td>\n",
              "      <td>AT0023</td>\n",
              "      <td>AT0023</td>\n",
              "      <td>77921916</td>\n",
              "      <td>0.0130</td>\n",
              "      <td>0.0001</td>\n",
              "      <td>0.2192</td>\n",
              "      <td>2</td>\n",
              "    </tr>\n",
              "    <tr>\n",
              "      <th>42</th>\n",
              "      <td>AT0075</td>\n",
              "      <td>AT0075</td>\n",
              "      <td>AT0023</td>\n",
              "      <td>AT0023</td>\n",
              "      <td>77921802</td>\n",
              "      <td>0.0148</td>\n",
              "      <td>0.0001</td>\n",
              "      <td>0.2494</td>\n",
              "      <td>2</td>\n",
              "    </tr>\n",
              "    <tr>\n",
              "      <th>55</th>\n",
              "      <td>AT0061</td>\n",
              "      <td>AT0061</td>\n",
              "      <td>AT0041</td>\n",
              "      <td>AT0041</td>\n",
              "      <td>77922036</td>\n",
              "      <td>0.0145</td>\n",
              "      <td>0.0001</td>\n",
              "      <td>0.2529</td>\n",
              "      <td>2</td>\n",
              "    </tr>\n",
              "    <tr>\n",
              "      <th>65</th>\n",
              "      <td>AT0047</td>\n",
              "      <td>AT0047</td>\n",
              "      <td>AT0041</td>\n",
              "      <td>AT0041</td>\n",
              "      <td>78075838</td>\n",
              "      <td>0.0137</td>\n",
              "      <td>0.0001</td>\n",
              "      <td>0.2368</td>\n",
              "      <td>2</td>\n",
              "    </tr>\n",
              "  </tbody>\n",
              "</table>\n",
              "</div>"
            ],
            "text/plain": [
              "      FID1     ID1    FID2     ID2     N_SNP  HetHet    IBS0  Kinship  graph\n",
              "7   AT0038  AT0038  AT0070  AT0070  77919548  0.0181  0.0001   0.2466      2\n",
              "17  AT0006  AT0006  AT0070  AT0070  77919526  0.0181  0.0001   0.2469      2\n",
              "35  AT0093  AT0093  AT0023  AT0023  77921916  0.0130  0.0001   0.2192      2\n",
              "42  AT0075  AT0075  AT0023  AT0023  77921802  0.0148  0.0001   0.2494      2\n",
              "55  AT0061  AT0061  AT0041  AT0041  77922036  0.0145  0.0001   0.2529      2\n",
              "65  AT0047  AT0047  AT0041  AT0041  78075838  0.0137  0.0001   0.2368      2"
            ]
          },
          "metadata": {
            "tags": []
          },
          "execution_count": 54
        }
      ]
    },
    {
      "cell_type": "code",
      "metadata": {
        "id": "3frD8En8yoVo",
        "colab_type": "code",
        "colab": {}
      },
      "source": [
        "df_kin['graph'] = 0\n",
        "df_kin['graph'] = [0 if x < 0.0442 else 4 if x < 0.0884 else 3\n",
        "                   if x < 0.177 else 2 if x < 0.354 else 1\n",
        "                   for x in df_kin.Kinship]"
      ],
      "execution_count": 0,
      "outputs": []
    },
    {
      "cell_type": "code",
      "metadata": {
        "id": "YfjGN4KAyoV8",
        "colab_type": "code",
        "colab": {}
      },
      "source": [
        "import networkx as nx\n",
        "import matplotlib.pyplot as plt"
      ],
      "execution_count": 0,
      "outputs": []
    },
    {
      "cell_type": "code",
      "metadata": {
        "id": "4YLy9cX4yoWG",
        "colab_type": "code",
        "colab": {}
      },
      "source": [
        "pedegree = nx.Graph()\n",
        "for edge1, edge2, weight in zip(df_kin.ID1, df_kin.ID2, df_kin.graph):\n",
        "    if weight:\n",
        "        pedegree.add_edge(edge1, edge2, weight = weight)"
      ],
      "execution_count": 0,
      "outputs": []
    },
    {
      "cell_type": "code",
      "metadata": {
        "id": "1SxEuXHKyoWT",
        "colab_type": "code",
        "colab": {},
        "outputId": "2b3f82aa-2e6e-434e-e080-2d2c2180cf89"
      },
      "source": [
        "%matplotlib inline\n",
        "plt.figure(figsize=(15,15))\n",
        "nx.draw(pedegree, cmap = plt.get_cmap('rainbow'), with_labels=True,\n",
        "        node_color = 'white', font_size = 20)"
      ],
      "execution_count": 0,
      "outputs": [
        {
          "output_type": "display_data",
          "data": {
            "image/png": "[encoded data removed]",
            "text/plain": [
              "<Figure size 1080x1080 with 1 Axes>"
            ]
          },
          "metadata": {
            "tags": []
          }
        }
      ]
    }
  ]
}